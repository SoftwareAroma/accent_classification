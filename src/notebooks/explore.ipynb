{
 "cells": [
  {
   "cell_type": "code",
   "execution_count": 1,
   "metadata": {},
   "outputs": [],
   "source": [
    "import pandas  as pd\n",
    "import numpy as np\n",
    "import ast"
   ]
  },
  {
   "cell_type": "code",
   "execution_count": 2,
   "metadata": {},
   "outputs": [],
   "source": [
    "df = pd.read_csv('../../bio_metadata.csv')"
   ]
  },
  {
   "cell_type": "code",
   "execution_count": 3,
   "metadata": {},
   "outputs": [],
   "source": [
    "df['english_residence'] = df['english_residence'].apply(ast.literal_eval)\n",
    "# check if there are any of the entries in the english_residence column that have more than one in the list \n",
    "df['english_residence'].apply(lambda x: len(x)).value_counts()\n",
    "# convert all entries in the english_residence column to lowercase\n",
    "df['english_residence'] = df['english_residence'].apply(lambda x: [i.lower() for i in x])\n",
    "# drop the rows where the english_residence column is empty or a number\n",
    "df = df[~df['english_residence'].apply(lambda x: len(x)==0)]"
   ]
  },
  {
   "cell_type": "code",
   "execution_count": 4,
   "metadata": {},
   "outputs": [
    {
     "data": {
      "text/plain": [
       "{'africa',\n",
       " 'and',\n",
       " 'antigua',\n",
       " 'ausstralia',\n",
       " 'australia',\n",
       " 'bahamas',\n",
       " 'barbados',\n",
       " 'canada',\n",
       " 'cayman',\n",
       " 'hong',\n",
       " 'ireland',\n",
       " 'islands',\n",
       " 'isle',\n",
       " 'jamaica',\n",
       " 'kong',\n",
       " 'leone',\n",
       " 'man',\n",
       " 'mariana',\n",
       " 'new',\n",
       " 'nigeria',\n",
       " 'northern',\n",
       " 'of',\n",
       " 'papua',\n",
       " 'philippines',\n",
       " 'scotland',\n",
       " 'sierra',\n",
       " 'singapore',\n",
       " 'south',\n",
       " 'the',\n",
       " 'uk',\n",
       " 'us',\n",
       " 'usa',\n",
       " 'usq',\n",
       " 'virgin',\n",
       " 'zealand'}"
      ]
     },
     "execution_count": 4,
     "metadata": {},
     "output_type": "execute_result"
    }
   ],
   "source": [
    "# get all the unique values in the english_residence column\n",
    "unique_residences = set()\n",
    "df['english_residence'].apply(lambda x: unique_residences.update(x))\n",
    "unique_residences = set([x for x in unique_residences if x.isalpha()])\n",
    "# unique_residences\n"
   ]
  },
  {
   "cell_type": "code",
   "execution_count": 5,
   "metadata": {},
   "outputs": [
    {
     "data": {
      "text/html": [
       "<div>\n",
       "<style scoped>\n",
       "    .dataframe tbody tr th:only-of-type {\n",
       "        vertical-align: middle;\n",
       "    }\n",
       "\n",
       "    .dataframe tbody tr th {\n",
       "        vertical-align: top;\n",
       "    }\n",
       "\n",
       "    .dataframe thead th {\n",
       "        text-align: right;\n",
       "    }\n",
       "</style>\n",
       "<table border=\"1\" class=\"dataframe\">\n",
       "  <thead>\n",
       "    <tr style=\"text-align: right;\">\n",
       "      <th></th>\n",
       "      <th>href</th>\n",
       "      <th>language_num</th>\n",
       "      <th>sex</th>\n",
       "      <th>birth_place</th>\n",
       "      <th>native_language</th>\n",
       "      <th>other_languages</th>\n",
       "      <th>age_sex</th>\n",
       "      <th>age_of_english_onset</th>\n",
       "      <th>english_learning_method</th>\n",
       "      <th>english_residence</th>\n",
       "      <th>length_of_english_residence</th>\n",
       "      <th>age</th>\n",
       "    </tr>\n",
       "  </thead>\n",
       "  <tbody>\n",
       "    <tr>\n",
       "      <th>0</th>\n",
       "      <td>http://accent.gmu.edu/browse_language.php?func...</td>\n",
       "      <td>mandarin1</td>\n",
       "      <td>female</td>\n",
       "      <td>['shanxi,', 'china']</td>\n",
       "      <td>mandarin\\n(cmn)</td>\n",
       "      <td>['none']</td>\n",
       "      <td>['26,', 'female', '']</td>\n",
       "      <td>13.0</td>\n",
       "      <td>academic</td>\n",
       "      <td>usa</td>\n",
       "      <td>2.0</td>\n",
       "      <td>26.0</td>\n",
       "    </tr>\n",
       "    <tr>\n",
       "      <th>1</th>\n",
       "      <td>http://accent.gmu.edu/browse_language.php?func...</td>\n",
       "      <td>mandarin2</td>\n",
       "      <td>female</td>\n",
       "      <td>['nanjing,', 'china']</td>\n",
       "      <td>mandarin\\n(cmn)</td>\n",
       "      <td>['japanese', '']</td>\n",
       "      <td>['38,', 'female', '']</td>\n",
       "      <td>14.0</td>\n",
       "      <td>academic</td>\n",
       "      <td>usa</td>\n",
       "      <td>0.8</td>\n",
       "      <td>38.0</td>\n",
       "    </tr>\n",
       "    <tr>\n",
       "      <th>2</th>\n",
       "      <td>http://accent.gmu.edu/browse_language.php?func...</td>\n",
       "      <td>mandarin3</td>\n",
       "      <td>male</td>\n",
       "      <td>['jilin,', 'china']</td>\n",
       "      <td>mandarin\\n(cmn)</td>\n",
       "      <td>['italian', 'german', 'french', '']</td>\n",
       "      <td>['43,', 'male', '']</td>\n",
       "      <td>10.0</td>\n",
       "      <td>academic</td>\n",
       "      <td>usa</td>\n",
       "      <td>14.0</td>\n",
       "      <td>43.0</td>\n",
       "    </tr>\n",
       "    <tr>\n",
       "      <th>3</th>\n",
       "      <td>http://accent.gmu.edu/browse_language.php?func...</td>\n",
       "      <td>mandarin4</td>\n",
       "      <td>female</td>\n",
       "      <td>['shanghai,', 'china']</td>\n",
       "      <td>mandarin\\n(cmn)</td>\n",
       "      <td>['japanese', '']</td>\n",
       "      <td>['24,', 'female', '']</td>\n",
       "      <td>6.0</td>\n",
       "      <td>academic</td>\n",
       "      <td>usa</td>\n",
       "      <td>1.0</td>\n",
       "      <td>24.0</td>\n",
       "    </tr>\n",
       "    <tr>\n",
       "      <th>4</th>\n",
       "      <td>http://accent.gmu.edu/browse_language.php?func...</td>\n",
       "      <td>mandarin5</td>\n",
       "      <td>female</td>\n",
       "      <td>['beijing,', 'china']</td>\n",
       "      <td>mandarin\\n(cmn)</td>\n",
       "      <td>['none']</td>\n",
       "      <td>['31,', 'female', '']</td>\n",
       "      <td>12.0</td>\n",
       "      <td>academic</td>\n",
       "      <td>usa</td>\n",
       "      <td>2.0</td>\n",
       "      <td>31.0</td>\n",
       "    </tr>\n",
       "  </tbody>\n",
       "</table>\n",
       "</div>"
      ],
      "text/plain": [
       "                                                href language_num     sex  \\\n",
       "0  http://accent.gmu.edu/browse_language.php?func...    mandarin1  female   \n",
       "1  http://accent.gmu.edu/browse_language.php?func...    mandarin2  female   \n",
       "2  http://accent.gmu.edu/browse_language.php?func...    mandarin3    male   \n",
       "3  http://accent.gmu.edu/browse_language.php?func...    mandarin4  female   \n",
       "4  http://accent.gmu.edu/browse_language.php?func...    mandarin5  female   \n",
       "\n",
       "              birth_place  native_language  \\\n",
       "0    ['shanxi,', 'china']  mandarin\\n(cmn)   \n",
       "1   ['nanjing,', 'china']  mandarin\\n(cmn)   \n",
       "2     ['jilin,', 'china']  mandarin\\n(cmn)   \n",
       "3  ['shanghai,', 'china']  mandarin\\n(cmn)   \n",
       "4   ['beijing,', 'china']  mandarin\\n(cmn)   \n",
       "\n",
       "                       other_languages                age_sex  \\\n",
       "0                             ['none']  ['26,', 'female', '']   \n",
       "1                     ['japanese', '']  ['38,', 'female', '']   \n",
       "2  ['italian', 'german', 'french', '']    ['43,', 'male', '']   \n",
       "3                     ['japanese', '']  ['24,', 'female', '']   \n",
       "4                             ['none']  ['31,', 'female', '']   \n",
       "\n",
       "   age_of_english_onset english_learning_method english_residence  \\\n",
       "0                  13.0                academic               usa   \n",
       "1                  14.0                academic               usa   \n",
       "2                  10.0                academic               usa   \n",
       "3                   6.0                academic               usa   \n",
       "4                  12.0                academic               usa   \n",
       "\n",
       "   length_of_english_residence   age  \n",
       "0                          2.0  26.0  \n",
       "1                          0.8  38.0  \n",
       "2                         14.0  43.0  \n",
       "3                          1.0  24.0  \n",
       "4                          2.0  31.0  "
      ]
     },
     "execution_count": 5,
     "metadata": {},
     "output_type": "execute_result"
    }
   ],
   "source": [
    "# there are some entries that english_residence that are like so [usa, uk, canada] which should be split into [usa], [uk], [canada]\n",
    "df = df.explode('english_residence')\n",
    "df.head()"
   ]
  },
  {
   "cell_type": "code",
   "execution_count": 6,
   "metadata": {},
   "outputs": [],
   "source": [
    "# drop values like so '3.5'\n",
    "df = df[~df['english_residence'].apply(lambda x: any(i.isdigit() for i in x))]"
   ]
  },
  {
   "cell_type": "code",
   "execution_count": 7,
   "metadata": {},
   "outputs": [],
   "source": [
    "# drop empty strings like so \"\"\n",
    "df = df[df['english_residence'].apply(lambda x: len(x)>0)]"
   ]
  },
  {
   "cell_type": "code",
   "execution_count": 8,
   "metadata": {},
   "outputs": [],
   "source": [
    "# there are some like this usa,\n",
    "# we will remove the comma\n",
    "df['english_residence'] = df['english_residence'].apply(lambda x: x.replace(',', ''))"
   ]
  },
  {
   "cell_type": "code",
   "execution_count": 9,
   "metadata": {},
   "outputs": [],
   "source": [
    "# new and zealand is one country\n",
    "df['english_residence'] = df['english_residence'].apply(lambda x: 'new zealand' if x == 'new' else x)\n",
    "df['english_residence'] = df['english_residence'].apply(lambda x: 'new zealand' if x == 'zealand' else x)"
   ]
  },
  {
   "cell_type": "code",
   "execution_count": 10,
   "metadata": {},
   "outputs": [
    {
     "data": {
      "text/plain": [
       "array(['usa', 'south', 'africa', 'singapore', 'uk', 'new zealand',\n",
       "       'canada', 'australia', 'thailand', 'northern', 'mariana',\n",
       "       'islands', 'hong', 'kong', 'nigeria', 'ukusa', 'jamaicausa',\n",
       "       'australiausa', 'trinidadusa', 'papua', 'guineaukusa', 'ireland',\n",
       "       'ukcanada', 'jamaica', 'india', 'us', 'virgin', 'wales',\n",
       "       'singaporeusa', 'philippinescanada', 'guyana', 'fiji', 'antigua',\n",
       "       'and', 'barbuda', 'barbados', 'scotland', 'sierra', 'leone',\n",
       "       'isle', 'of', 'man', 'belize', 'liberia', 'philippines', 'the',\n",
       "       'bahamas', 'ghana', 'panama', 'cayman', 'ausstralia', 'cameroon',\n",
       "       'usq', 'zimbabwe', 'italy', 'ukaustralia', 'island', 'brazil'],\n",
       "      dtype=object)"
      ]
     },
     "execution_count": 10,
     "metadata": {},
     "output_type": "execute_result"
    }
   ],
   "source": [
    "df['english_residence'].unique()"
   ]
  },
  {
   "cell_type": "code",
   "execution_count": 11,
   "metadata": {},
   "outputs": [
    {
     "data": {
      "text/plain": [
       "english_residence\n",
       "usa                  1031\n",
       "uk                    115\n",
       "canada                 78\n",
       "australia              69\n",
       "new zealand            31\n",
       "ireland                19\n",
       "singapore              10\n",
       "africa                  9\n",
       "south                   9\n",
       "scotland                5\n",
       "jamaica                 5\n",
       "ukusa                   4\n",
       "islands                 3\n",
       "guyana                  2\n",
       "philippines             2\n",
       "kong                    2\n",
       "nigeria                 2\n",
       "hong                    2\n",
       "mariana                 2\n",
       "northern                2\n",
       "of                      1\n",
       "man                     1\n",
       "belize                  1\n",
       "liberia                 1\n",
       "bahamas                 1\n",
       "the                     1\n",
       "usq                     1\n",
       "ghana                   1\n",
       "panama                  1\n",
       "cayman                  1\n",
       "ausstralia              1\n",
       "cameroon                1\n",
       "leone                   1\n",
       "zimbabwe                1\n",
       "italy                   1\n",
       "ukaustralia             1\n",
       "island                  1\n",
       "isle                    1\n",
       "philippinescanada       1\n",
       "sierra                  1\n",
       "india                   1\n",
       "thailand                1\n",
       "jamaicausa              1\n",
       "australiausa            1\n",
       "trinidadusa             1\n",
       "papua                   1\n",
       "guineaukusa             1\n",
       "ukcanada                1\n",
       "us                      1\n",
       "barbados                1\n",
       "virgin                  1\n",
       "wales                   1\n",
       "singaporeusa            1\n",
       "fiji                    1\n",
       "antigua                 1\n",
       "and                     1\n",
       "barbuda                 1\n",
       "brazil                  1\n",
       "Name: count, dtype: int64"
      ]
     },
     "execution_count": 11,
     "metadata": {},
     "output_type": "execute_result"
    }
   ],
   "source": [
    "# get the count of each residence\n",
    "df['english_residence'].value_counts()"
   ]
  },
  {
   "cell_type": "code",
   "execution_count": 12,
   "metadata": {},
   "outputs": [
    {
     "data": {
      "text/plain": [
       "english_residence\n",
       "usa            1031\n",
       "uk              115\n",
       "canada           78\n",
       "australia        69\n",
       "new zealand      31\n",
       "ireland          19\n",
       "singapore        10\n",
       "south             9\n",
       "africa            9\n",
       "jamaica           5\n",
       "scotland          5\n",
       "ukusa             4\n",
       "islands           3\n",
       "Name: count, dtype: int64"
      ]
     },
     "execution_count": 12,
     "metadata": {},
     "output_type": "execute_result"
    }
   ],
   "source": [
    "# drop all with value count less than 2\n",
    "df = df[df['english_residence'].map(df['english_residence'].value_counts()) > 2]\n",
    "df['english_residence'].value_counts()"
   ]
  },
  {
   "cell_type": "code",
   "execution_count": 13,
   "metadata": {},
   "outputs": [
    {
     "data": {
      "text/plain": [
       "array(['usa', 'south', 'africa', 'singapore', 'uk', 'new zealand',\n",
       "       'canada', 'australia', 'islands', 'ukusa', 'ireland', 'jamaica',\n",
       "       'scotland'], dtype=object)"
      ]
     },
     "execution_count": 13,
     "metadata": {},
     "output_type": "execute_result"
    }
   ],
   "source": [
    "np.array(df['english_residence'].unique())"
   ]
  },
  {
   "cell_type": "code",
   "execution_count": null,
   "metadata": {},
   "outputs": [],
   "source": []
  }
 ],
 "metadata": {
  "kernelspec": {
   "display_name": "Python 3",
   "language": "python",
   "name": "python3"
  },
  "language_info": {
   "codemirror_mode": {
    "name": "ipython",
    "version": 3
   },
   "file_extension": ".py",
   "mimetype": "text/x-python",
   "name": "python",
   "nbconvert_exporter": "python",
   "pygments_lexer": "ipython3",
   "version": "3.11.8"
  }
 },
 "nbformat": 4,
 "nbformat_minor": 2
}
